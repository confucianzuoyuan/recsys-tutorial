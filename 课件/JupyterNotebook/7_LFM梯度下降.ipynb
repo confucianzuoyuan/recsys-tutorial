{
 "cells": [
  {
   "cell_type": "markdown",
   "metadata": {},
   "source": [
    "# 隐语义模型的梯度下降求解"
   ]
  },
  {
   "cell_type": "markdown",
   "metadata": {},
   "source": [
    "### 1.算法实现"
   ]
  },
  {
   "cell_type": "code",
   "execution_count": 12,
   "metadata": {},
   "outputs": [],
   "source": [
    "import numpy as np\n",
    "\n",
    "\"\"\"\n",
    "@输入参数：\n",
    "R：M*N 的评分矩阵\n",
    "P：初始化用户特征矩阵M*K\n",
    "Q：初始化物品特征矩阵N*K\n",
    "K：隐特征向量个数\n",
    "steps: 最大迭代次数\n",
    "alpha：步长\n",
    "lamda：正则化系数\n",
    "\n",
    "@输出：\n",
    "分解之后的 P，Q\n",
    "\"\"\"\n",
    "\n",
    "def LFM_grad_desc(R, K=2, steps=3000, alpha=0.0002, lamda=0.004):\n",
    "    M = len(R)         # R的行数M\n",
    "    N = len(R[0])      # R的列数N\n",
    "    P = np.random.rand(M,K) # 产生一个M x K的随机矩阵\n",
    "    Q = np.random.rand(N,K) # 产生一个N x K的随机矩阵\n",
    "    Q = Q.T # Q做转置\n",
    "    \n",
    "    for step in range(steps):\n",
    "        for i in range(M):\n",
    "            for j in range(N):\n",
    "                # 如果评分大于0，表示有评分，才考虑误差\n",
    "                if R[i][j] > 0:\n",
    "                    eij = R[i][j] - np.dot(P[i,:],Q[:,j]) # np.dot是点乘的意思, P[i,:]: 1 x k; Q[:,j]: k x 1\n",
    "                    for k in range(0, K):\n",
    "                        P[i][k] = P[i][k] + alpha * (2 * eij * Q[k][j] - 2 * lamda * P[i][k])\n",
    "                        Q[k][j] = Q[k][j] + alpha * (2 * eij * P[i][k] - 2 * lamda * Q[k][j])\n",
    "\n",
    "        # 根据更新之后的P、Q计算预测评分矩阵\n",
    "        eR = np.dot(P,Q)\n",
    "        # 计算当前损失函数\n",
    "        e = 0\n",
    "        for i in range(M):\n",
    "            for j in range(N):\n",
    "                if R[i][j] > 0:\n",
    "                    e += (R[i][j]-np.dot(P[i,:],Q[:,j]))**2\n",
    "                    for k in range(K):\n",
    "                        e += lamda * (P[i][k]**2 + Q[k][j]**2) \n",
    "        \n",
    "        if e < 0.001:\n",
    "            break\n",
    "    return P, Q.T"
   ]
  },
  {
   "cell_type": "markdown",
   "metadata": {},
   "source": [
    "输入\n",
    "\n",
    "$$\n",
    "R: M \\times N \\\\\n",
    "P: M \\times K \\\\\n",
    "Q: K \\times N\n",
    "$$\n",
    "\n",
    "损失函数：\n",
    "\n",
    "$$\n",
    "L = \\sum (R - PQ)^2 + \\lambda {\\vert\\vert P \\vert\\vert}^2 + \\lambda {\\vert\\vert Q \\vert\\vert}^2\n",
    "$$\n",
    "\n",
    "当然这里的R是评分矩阵的**已有评分**\n",
    "\n",
    "也就是说\n",
    "\n",
    "$$\n",
    "\\widehat{R}_{ij} = P_{i1}Q_{1j} + ... + P_{iK}Q_{Kj}  = \\sum P_{ik}Q_{kj}\n",
    "$$\n",
    "\n",
    "上面的公式$k$要循环$(1, K)$\n",
    "\n",
    "对P求偏导数\n",
    "\n",
    "$$\n",
    "\\frac {\\partial L}{\\partial P} = \\sum 2 \\times (R-PQ) \\times (-Q^T) + 2\\lambda\\vert\\vert P \\vert\\vert\n",
    "$$\n",
    "\n",
    "梯度下降迭代公式：\n",
    "\n",
    "$$\n",
    "P_{下一轮} = P_{当前轮} + \\alpha (2\\sum(R-PQ)Q^T-2\\lambda\\vert\\vert P \\vert\\vert)\n",
    "$$\n",
    "\n",
    "Q的求解同理\n",
    "\n",
    "这里有一个矩阵求导的技巧：\n",
    "\n",
    "$$\n",
    "\\frac {\\partial PQ}{\\partial P} = Q^T\n",
    "$$\n",
    "\n",
    "假设\n",
    "\n",
    "$$\n",
    "P = [P_1, ... ,P_K] \\\\\n",
    "Q = [Q_1, ... ,Q_K]^T \\\\\n",
    "PQ = P_1Q_1 + ... + P_KQ_K \\\\\n",
    "\\frac {\\partial PQ}{\\partial P} = [Q_1, ... , Q_K] = Q^T\n",
    "$$\n",
    "\n",
    "标量针对向量进行求导\n",
    "\n",
    "\n",
    "$$\n",
    "\\frac {\\partial x}{\\partial Y} = [\\frac {\\partial x}{\\partial y_1}, ..., \\frac {\\partial x}{\\partial y_K}]\n",
    "$$\n",
    "\n",
    "### ppt矩阵求导详细推导\n",
    "\n",
    "\n",
    "$$\n",
    "P_u^T = (p_1, ..., p_k)\n",
    "$$\n",
    "\n",
    "$$\n",
    "Q_i = \\left(\n",
    "  \\begin{array}{c}\n",
    "          q_{1} \\\\\n",
    "          \\vdots \\\\\n",
    "          q_{k}\n",
    " \\end{array}\n",
    " \\right)\n",
    "$$\n",
    "\n",
    "所以\n",
    "\n",
    "$$\n",
    "P_u^TQ_i = (p_1, ..., p_k)\\left(\n",
    "  \\begin{array}{c}\n",
    "          q_{1} \\\\\n",
    "          \\vdots \\\\\n",
    "          q_{k}\n",
    " \\end{array}\n",
    " \\right) = p_1q_1 + ... + p_kq_k\n",
    "$$\n",
    "\n",
    "所以对$Q_i$求偏导为：\n",
    "\n",
    "$$\n",
    "\\frac {\\partial P_u^TQ_i}{\\partial P_u} = \\frac {\\partial (p_1q_1 + ... + p_kq_k)}{\\partial \\left(\n",
    "  \\begin{array}{c}\n",
    "          p_{1} \\\\\n",
    "          \\vdots \\\\\n",
    "          p_{k}\n",
    " \\end{array}\n",
    " \\right)} = \\left(\n",
    "  \\begin{array}{c}\n",
    "          q_{1} \\\\\n",
    "          \\vdots \\\\\n",
    "          q_{k}\n",
    " \\end{array}\n",
    " \\right) = Q_i\n",
    "$$\n",
    "\n",
    "$$\n",
    "\\sum_i Q_iQ_i^T = Q_1Q_1^T + ... + Q_NQ_N^T = (Q_1, ..., Q_N)\\left(\n",
    "  \\begin{array}{c}\n",
    "          Q_{1}^T \\\\\n",
    "          \\vdots \\\\\n",
    "          Q_{N}^T\n",
    " \\end{array}\n",
    " \\right) = (Q_1, ..., Q_N)(Q_1^T, ..., Q_N^T)^T\n",
    "$$"
   ]
  },
  {
   "cell_type": "markdown",
   "metadata": {},
   "source": [
    "### 2. 测试"
   ]
  },
  {
   "cell_type": "code",
   "execution_count": 21,
   "metadata": {},
   "outputs": [
    {
     "data": {
      "text/plain": [
       "array([[5, 1, 4, 2, 3],\n",
       "       [1, 0, 3, 3, 4],\n",
       "       [5, 2, 0, 2, 5],\n",
       "       [1, 2, 4, 3, 5]])"
      ]
     },
     "execution_count": 21,
     "metadata": {},
     "output_type": "execute_result"
    }
   ],
   "source": [
    "R = np.array([[5,1,4,2,3],\n",
    "              [1,0,3,3,4],\n",
    "              [5,2,0,2,5],\n",
    "              [1,2,4,3,5]])\n",
    "\n",
    "nP,nQ = LFM_grad_desc(R)\n",
    "R"
   ]
  },
  {
   "cell_type": "code",
   "execution_count": 22,
   "metadata": {},
   "outputs": [
    {
     "data": {
      "text/plain": [
       "array([[2.10832007, 0.48256027],\n",
       "       [0.36871684, 1.69232023],\n",
       "       [2.1340747 , 1.14319922],\n",
       "       [0.38806583, 2.10348715]])"
      ]
     },
     "execution_count": 22,
     "metadata": {},
     "output_type": "execute_result"
    }
   ],
   "source": [
    "nP"
   ]
  },
  {
   "cell_type": "code",
   "execution_count": 23,
   "metadata": {},
   "outputs": [
    {
     "data": {
      "text/plain": [
       "array([[2.32864436, 0.06061983],\n",
       "       [0.37287366, 0.88648014],\n",
       "       [1.50706114, 1.56332958],\n",
       "       [0.41702182, 1.41702996],\n",
       "       [1.0472418 , 2.18330051]])"
      ]
     },
     "execution_count": 23,
     "metadata": {},
     "output_type": "execute_result"
    }
   ],
   "source": [
    "nQ"
   ]
  },
  {
   "cell_type": "code",
   "execution_count": 24,
   "metadata": {},
   "outputs": [
    {
     "data": {
      "text/plain": [
       "array([[4.93878036, 1.21391712, 3.93176799, 1.56301783, 3.26149498],\n",
       "       [0.96119857, 1.63769307, 3.20133309, 2.55183143, 4.08097931],\n",
       "       [5.03880155, 1.80916365, 5.00337819, 2.50990326, 4.73083966],\n",
       "       [1.03118034, 2.00939911, 3.87328261, 3.14253623, 4.99894333]])"
      ]
     },
     "execution_count": 24,
     "metadata": {},
     "output_type": "execute_result"
    }
   ],
   "source": [
    "nP.dot(nQ.T)"
   ]
  },
  {
   "cell_type": "code",
   "execution_count": null,
   "metadata": {},
   "outputs": [],
   "source": []
  }
 ],
 "metadata": {
  "kernelspec": {
   "display_name": "Python 3",
   "language": "python",
   "name": "python3"
  },
  "language_info": {
   "codemirror_mode": {
    "name": "ipython",
    "version": 3
   },
   "file_extension": ".py",
   "mimetype": "text/x-python",
   "name": "python",
   "nbconvert_exporter": "python",
   "pygments_lexer": "ipython3",
   "version": "3.7.2"
  }
 },
 "nbformat": 4,
 "nbformat_minor": 2
}
