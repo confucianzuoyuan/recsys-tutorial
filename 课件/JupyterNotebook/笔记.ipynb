{
 "cells": [
  {
   "cell_type": "markdown",
   "metadata": {},
   "source": [
    "$$\n",
    "y = wx + b\n",
    "$$"
   ]
  },
  {
   "cell_type": "markdown",
   "metadata": {},
   "source": [
    "$$\n",
    "L = \\frac{1}{N} \\sum_{i=1}^N (y_i - (wx_i+b))^2\n",
    "$$"
   ]
  },
  {
   "cell_type": "markdown",
   "metadata": {},
   "source": [
    "$$\n",
    "[\\frac{\\partial L}{\\partial w}, \\frac{\\partial L}{\\partial b}]\n",
    "$$"
   ]
  },
  {
   "cell_type": "markdown",
   "metadata": {},
   "source": [
    "$$\n",
    "w_1 \\Leftarrow w_0 - \\alpha \\frac{\\partial L}{\\partial w} \\\\\n",
    "w_2 \\Leftarrow w_1 - \\alpha \\frac{\\partial L}{\\partial w} \\\\\n",
    "... \\\\\n",
    "w_{100} \\Leftarrow w_{99} - \\alpha \\frac{\\partial L}{\\partial w}\n",
    "$$"
   ]
  },
  {
   "cell_type": "markdown",
   "metadata": {},
   "source": [
    "$$\n",
    "(w_1,b_1) \\Leftarrow (w_0,b_0) - \\alpha [\\frac{\\partial L}{\\partial w}, \\frac{\\partial L}{\\partial b}]\n",
    "$$"
   ]
  },
  {
   "cell_type": "code",
   "execution_count": null,
   "metadata": {},
   "outputs": [],
   "source": []
  }
 ],
 "metadata": {
  "kernelspec": {
   "display_name": "Python 3",
   "language": "python",
   "name": "python3"
  },
  "language_info": {
   "codemirror_mode": {
    "name": "ipython",
    "version": 3
   },
   "file_extension": ".py",
   "mimetype": "text/x-python",
   "name": "python",
   "nbconvert_exporter": "python",
   "pygments_lexer": "ipython3",
   "version": "3.7.4"
  }
 },
 "nbformat": 4,
 "nbformat_minor": 2
}
